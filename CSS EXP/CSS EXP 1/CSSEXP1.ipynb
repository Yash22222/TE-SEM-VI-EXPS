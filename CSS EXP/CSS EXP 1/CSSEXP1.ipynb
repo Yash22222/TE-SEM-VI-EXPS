{
  "nbformat": 4,
  "nbformat_minor": 0,
  "metadata": {
    "colab": {
      "provenance": []
    },
    "kernelspec": {
      "name": "python3",
      "display_name": "Python 3"
    },
    "language_info": {
      "name": "python"
    }
  },
  "cells": [
    {
      "cell_type": "markdown",
      "source": [
        "# **CSS EXP1 = Implementation of a Product Cipher Using Substitution & Transposition Ciphers**\n",
        "####[YASH ASHOK SHIRSATH TE AI&DS - 74 / 201101006](https://yashashokshirsath.netlify.app/)"
      ],
      "metadata": {
        "id": "RJtUXZIzwPVI"
      }
    },
    {
      "cell_type": "code",
      "source": [
        "# Implementation of a Product Cipher Using Substitution Ciphers - Additive Cipher Encryption\n",
        "def encrypt_additive(plaintext, key):\n",
        "  \"\"\"Encrypts plaintext using an additive cipher with the given key.\"\"\"\n",
        "  ciphertext = \"\"\n",
        "  for char in plaintext:\n",
        "    if char.isalpha():\n",
        "      base = ord('A') if char.isupper() else ord('a')\n",
        "      new_char_code = (ord(char) - base + key) % 26 + base\n",
        "      new_char = chr(new_char_code)\n",
        "      ciphertext += new_char\n",
        "    else:\n",
        "      ciphertext += char\n",
        "  return ciphertext\n",
        "\n",
        "plaintext = \"ENEMY ATTACK TODAY\" # PT & KEY\n",
        "key = 15\n",
        "ciphertext = encrypt_additive(plaintext, key) # Encrypt the PT\n",
        "print(\"PT TO CIPHERTEXT:-\", ciphertext)\n",
        "\n",
        "\n",
        "# Implementation of a Product Cipher Using Substitution Ciphers - Additive Cipher Decryption\n",
        "def decrypt_additive(ciphertext, key):\n",
        "  \"\"\"Decrypts ciphertext using an additive cipher with the given key.\"\"\"\n",
        "  plaintext = \"\"\n",
        "  for char in ciphertext:\n",
        "    if char.isalpha():\n",
        "      new_char_code = (ord(char) - ord('A') - key + 26) % 26 + ord('A')\n",
        "      plaintext += chr(new_char_code)\n",
        "    else:\n",
        "      plaintext += char\n",
        "  return plaintext\n",
        "\n",
        "plaintext = decrypt_additive(ciphertext, key)  # Decrypt the CT\n",
        "print(\"CT TO PLAINTEXT:-\", plaintext)"
      ],
      "metadata": {
        "id": "LSt-Q_9hnLZt",
        "colab": {
          "base_uri": "https://localhost:8080/"
        },
        "outputId": "76d7bbb1-ebf1-4f92-8c16-3fdad45f0620"
      },
      "execution_count": 29,
      "outputs": [
        {
          "output_type": "stream",
          "name": "stdout",
          "text": [
            "PT TO CIPHERTEXT:- TCTBN PIIPRZ IDSPN\n",
            "CT TO PLAINTEXT:- ENEMY ATTACK TODAY\n"
          ]
        }
      ]
    },
    {
      "cell_type": "code",
      "source": [
        "# Implementation of a Product Cipher Using Substitution Ciphers - Multiplicative Cipher Encryption & Decryption\n",
        "def encrypt_multiplicative(plaintext, key):\n",
        "  \"\"\"Encrypts plaintext using a multiplicative cipher with the given key.\"\"\"\n",
        "  ciphertext = \"\"\n",
        "  for char in plaintext:\n",
        "    if char.isalpha():\n",
        "      base = ord('A') if char.isupper() else ord('a')\n",
        "      new_char_code = (ord(char) - base) * key % 26 + base\n",
        "      new_char = chr(new_char_code)\n",
        "      ciphertext += new_char\n",
        "    else:\n",
        "      ciphertext += char\n",
        "  return ciphertext\n",
        "\n",
        "def decrypt_multiplicative(ciphertext, key):\n",
        "  \"\"\"Decrypts ciphertext using a multiplicative cipher with the given key.\"\"\"\n",
        "  plaintext = \"\"\n",
        "  for char in ciphertext:\n",
        "    if char.isalpha():\n",
        "      base = ord('A') if char.isupper() else ord('a')\n",
        "      multiplicative_inverse = find_multiplicative_inverse(key, 26)\n",
        "      new_char_code = (ord(char) - base) * multiplicative_inverse % 26 + base\n",
        "      new_char = chr(new_char_code)\n",
        "      plaintext += new_char\n",
        "    else:\n",
        "      plaintext += char\n",
        "  return plaintext\n",
        "\n",
        "def find_multiplicative_inverse(a, m):\n",
        "  \"\"\"Finds the modular multiplicative inverse of 'a' modulo 'm' using the extended Euclidean algorithm.\"\"\"\n",
        "  m0 = m\n",
        "  y = 0\n",
        "  x = 1\n",
        "  if m == 1:\n",
        "      return 0\n",
        "  while a > 1:\n",
        "      # q is quotient\n",
        "      q = a // m\n",
        "      t = m\n",
        "      m = a % m\n",
        "      a = t\n",
        "      t = y\n",
        "      y = x - q * y\n",
        "      x = t\n",
        "  if x < 0:\n",
        "      x = x + m0\n",
        "  return x\n",
        "\n",
        "plaintext = \"ENEMY ATTACK TODAY\"\n",
        "key = 5\n",
        "\n",
        "ciphertext = encrypt_multiplicative(plaintext, key)\n",
        "print(\"PT TO CIPHERTEXT:-\", ciphertext)\n",
        "\n",
        "decrypted_text = decrypt_multiplicative(ciphertext, key)\n",
        "print(\"CT TO PLAINTEXT:-\", decrypted_text)"
      ],
      "metadata": {
        "colab": {
          "base_uri": "https://localhost:8080/"
        },
        "id": "riRK_LFvxRxg",
        "outputId": "1efb44da-7f6c-4267-e406-0ab4003b9e97"
      },
      "execution_count": 30,
      "outputs": [
        {
          "output_type": "stream",
          "name": "stdout",
          "text": [
            "PT TO CIPHERTEXT:- UNUIQ ARRAKY RSPAQ\n",
            "CT TO PLAINTEXT:- ENEMY ATTACK TODAY\n"
          ]
        }
      ]
    },
    {
      "cell_type": "code",
      "source": [
        "# Implementation of a Product Cipher Using Transposition Ciphers - Keyless\n",
        "def encrypt_rail_fence(plaintext, num_rails):\n",
        "  \"\"\"Encrypts plaintext using a Rail Fence cipher with the given number of rails.\"\"\"\n",
        "  ciphertext = \"\"\n",
        "  rail = 0\n",
        "  direction_down = True\n",
        "\n",
        "  matrix = [[None for _ in range(len(plaintext))] for _ in range(num_rails)]\n",
        "  for i in range(len(plaintext)):\n",
        "    matrix[rail][i] = plaintext[i]\n",
        "    if rail == 0:\n",
        "      direction_down = True\n",
        "    elif rail == num_rails - 1:\n",
        "      direction_down = False\n",
        "    rail += 1 if direction_down else -1\n",
        "\n",
        "  for row in matrix:\n",
        "    ciphertext += \"\".join(char for char in row if char is not None)\n",
        "\n",
        "  return ciphertext\n",
        "\n",
        "def decrypt_rail_fence(ciphertext, num_rails):\n",
        "  \"\"\"Decrypts ciphertext using a Rail Fence cipher with the given number of rails.\"\"\"\n",
        "  plaintext = \"\"\n",
        "  rail = 0\n",
        "  direction_down = True\n",
        "\n",
        "  matrix = [[None for _ in range(len(ciphertext))] for _ in range(num_rails)]\n",
        "  for i in range(len(ciphertext)):\n",
        "    matrix[rail][i] = \"*\"\n",
        "    if rail == 0:\n",
        "      direction_down = True\n",
        "    elif rail == num_rails - 1:\n",
        "      direction_down = False\n",
        "    rail += 1 if direction_down else -1\n",
        "\n",
        "  cipher_index = 0\n",
        "  for row in matrix:\n",
        "    for i in range(len(row)):\n",
        "      if row[i] == \"*\" and cipher_index < len(ciphertext):\n",
        "        row[i] = ciphertext[cipher_index]\n",
        "        cipher_index += 1\n",
        "\n",
        "  for i in range(len(ciphertext)):\n",
        "    for row in matrix:\n",
        "      if row[i] is not None:\n",
        "        plaintext += row[i]\n",
        "        break\n",
        "\n",
        "  return plaintext\n",
        "\n",
        "plaintext = \"ENEMY ATTACK TODAY\"\n",
        "num_rails = 3\n",
        "\n",
        "ciphertext = encrypt_rail_fence(plaintext, num_rails)\n",
        "print(\"PT TO CIPHERTEXT:-\", ciphertext)\n",
        "\n",
        "decrypted_text = decrypt_rail_fence(ciphertext, num_rails)\n",
        "print(\"CT TO PLAINTEXT:-\", decrypted_text)"
      ],
      "metadata": {
        "id": "Vt7x3d-3yxZH",
        "colab": {
          "base_uri": "https://localhost:8080/"
        },
        "outputId": "545d4f98-bdd4-400f-9165-a827a05e2255"
      },
      "execution_count": 31,
      "outputs": [
        {
          "output_type": "stream",
          "name": "stdout",
          "text": [
            "PT TO CIPHERTEXT:- EYT ANM TAKTDYEACO\n",
            "CT TO PLAINTEXT:- ENEMY ATTACK TODAY\n"
          ]
        }
      ]
    },
    {
      "cell_type": "code",
      "source": [
        "# Implementation of a Product Cipher Using Transposition Ciphers - With Key\n",
        "import math\n",
        "key = \"HACK\"\n",
        "\n",
        "def encryptMessage(msg):\n",
        "    cipher = \"\"\n",
        "\n",
        "    k_indx = 0\n",
        "    msg_len = float(len(msg))\n",
        "    msg_lst = list(msg)\n",
        "    key_lst = sorted(list(key))\n",
        "    col = len(key)\n",
        "\n",
        "    row = int(math.ceil(msg_len / col))\n",
        "    fill_null = int((row * col) - msg_len)\n",
        "    msg_lst.extend('_' * fill_null)\n",
        "    matrix = [msg_lst[i: i + col]\n",
        "              for i in range(0, len(msg_lst), col)]\n",
        "\n",
        "    for _ in range(col):\n",
        "        curr_idx = key.index(key_lst[k_indx])\n",
        "        cipher += ''.join([row[curr_idx]\n",
        "                          for row in matrix])\n",
        "        k_indx += 1\n",
        "\n",
        "    return cipher\n",
        "\n",
        "def decryptMessage(cipher):\n",
        "    msg = \"\"\n",
        "\n",
        "    k_indx = 0\n",
        "    msg_indx = 0\n",
        "    msg_len = float(len(cipher))\n",
        "    msg_lst = list(cipher)\n",
        "    col = len(key)\n",
        "    row = int(math.ceil(msg_len / col))\n",
        "    key_lst = sorted(list(key))\n",
        "    dec_cipher = []\n",
        "    for _ in range(row):\n",
        "        dec_cipher += [[None] * col]\n",
        "    for _ in range(col):\n",
        "        curr_idx = key.index(key_lst[k_indx])\n",
        "\n",
        "        for j in range(row):\n",
        "            dec_cipher[j][curr_idx] = msg_lst[msg_indx]\n",
        "            msg_indx += 1\n",
        "        k_indx += 1\n",
        "\n",
        "    try:\n",
        "        msg = ''.join(sum(dec_cipher, []))\n",
        "    except TypeError:\n",
        "        raise TypeError(\"This program cannot\",\n",
        "                        \"handle repeating words.\")\n",
        "\n",
        "    null_count = msg.count('_')\n",
        "\n",
        "    if null_count > 0:\n",
        "        return msg[: -null_count]\n",
        "\n",
        "    return msg\n",
        "\n",
        "msg = \"ENEMY ATTACK TODAY\"\n",
        "\n",
        "cipher = encryptMessage(msg)\n",
        "print(\"PT TO CIPHERTEXT:- {}\".\n",
        "               format(cipher))\n",
        "\n",
        "print(\"CT TO PLAINTEXT:- {}\".\n",
        "       format(decryptMessage(cipher)))"
      ],
      "metadata": {
        "colab": {
          "base_uri": "https://localhost:8080/"
        },
        "id": "RMPsUEkJMNea",
        "outputId": "4f5f2d63-8ca4-4b9a-d9b9-5d9a902bf3dc"
      },
      "execution_count": 32,
      "outputs": [
        {
          "output_type": "stream",
          "name": "stdout",
          "text": [
            "PT TO CIPHERTEXT:- N ATYEACO_EYT AMTKD_\n",
            "CT TO PLAINTEXT:- ENEMY ATTACK TODAY\n"
          ]
        }
      ]
    }
  ]
}