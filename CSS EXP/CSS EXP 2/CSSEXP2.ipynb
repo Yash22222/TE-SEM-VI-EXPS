{
  "nbformat": 4,
  "nbformat_minor": 0,
  "metadata": {
    "colab": {
      "provenance": []
    },
    "kernelspec": {
      "name": "python3",
      "display_name": "Python 3"
    },
    "language_info": {
      "name": "python"
    }
  },
  "cells": [
    {
      "cell_type": "code",
      "execution_count": 1,
      "metadata": {
        "id": "nhAWoTunJj2B",
        "colab": {
          "base_uri": "https://localhost:8080/"
        },
        "outputId": "c439be19-cc82-4f8e-e0ad-e51c4c3706d3"
      },
      "outputs": [
        {
          "output_type": "stream",
          "name": "stdout",
          "text": [
            "Enter the first prime number (p): 61\n",
            "Enter the second prime number (q): 53\n",
            "Public key (n, e): (3233, 7)\n",
            "Private key (n, d): (3233, 1783)\n",
            "Enter 'E' to encrypt or 'D' to decrypt: d\n",
            "Enter the ciphertext to decrypt: 1754\n",
            "The decrypted plaintext is: 45\n"
          ]
        }
      ],
      "source": [
        "import math\n",
        "\n",
        "def is_coprime(a, b):\n",
        "    return math.gcd(a, b) == 1\n",
        "\n",
        "def mod_inverse(a, m):\n",
        "    for x in range(1, m):\n",
        "        if (a * x) % m == 1:\n",
        "            return x\n",
        "    return None\n",
        "\n",
        "def generate_keypair(p, q):\n",
        "    n = p * q\n",
        "    phi_n = (p - 1) * (q - 1)\n",
        "\n",
        "    e = 2\n",
        "    while e < phi_n:\n",
        "        if is_coprime(e, phi_n):\n",
        "            break\n",
        "        e += 1\n",
        "\n",
        "    d = mod_inverse(e, phi_n)\n",
        "\n",
        "    return ((n, e), (n, d))\n",
        "\n",
        "def encrypt(public_key, plaintext):\n",
        "    n, e = public_key\n",
        "    return (plaintext ** e) % n\n",
        "\n",
        "def decrypt(private_key, ciphertext):\n",
        "    n, d = private_key\n",
        "    return (ciphertext ** d) % n\n",
        "\n",
        "def main():\n",
        "    p = int(input(\"Enter the first prime number (p): \"))\n",
        "    q = int(input(\"Enter the second prime number (q): \"))\n",
        "\n",
        "    public_key, private_key = generate_keypair(p, q)\n",
        "\n",
        "    print(\"Public key (n, e):\", public_key)\n",
        "    print(\"Private key (n, d):\", private_key)\n",
        "\n",
        "    choice = input(\"Enter 'E' to encrypt or 'D' to decrypt: \").upper()\n",
        "\n",
        "    if choice == 'E':\n",
        "        plaintext = int(input(\"Enter the plaintext to encrypt: \"))\n",
        "        ciphertext = encrypt(public_key, plaintext)\n",
        "        print(\"The encrypted ciphertext is:\", ciphertext)\n",
        "    elif choice == 'D':\n",
        "        ciphertext = int(input(\"Enter the ciphertext to decrypt: \"))\n",
        "        decrypted_text = decrypt(private_key, ciphertext)\n",
        "        print(\"The decrypted plaintext is:\", decrypted_text)\n",
        "    else:\n",
        "        print(\"Invalid choice. Please enter 'E' or 'D.\")\n",
        "\n",
        "if __name__ == \"__main__\":\n",
        "  main()"
      ]
    }
  ]
}