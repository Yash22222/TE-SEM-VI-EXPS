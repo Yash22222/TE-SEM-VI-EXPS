{
  "nbformat": 4,
  "nbformat_minor": 0,
  "metadata": {
    "colab": {
      "provenance": []
    },
    "kernelspec": {
      "name": "python3",
      "display_name": "Python 3"
    },
    "language_info": {
      "name": "python"
    }
  },
  "cells": [
    {
      "cell_type": "markdown",
      "source": [
        "# **ML EXP2 - Study of ML Libraries and Tools Python Libraries Tensorflow Keras**\n",
        "\n",
        "[Yash Ashok Shirsath (TE AI&DS 74/201101006)](https://yashashokshirsath.netlify.app/)"
      ],
      "metadata": {
        "id": "wItBb09Yaesn"
      }
    },
    {
      "cell_type": "code",
      "execution_count": 38,
      "metadata": {
        "id": "k-HGIBQbaB-A"
      },
      "outputs": [],
      "source": [
        "import tensorflow as tf\n",
        "from tensorflow import keras\n",
        "from tensorflow.keras import layers\n",
        "import matplotlib.pyplot as plt\n",
        "import seaborn as sns\n",
        "import numpy as np"
      ]
    },
    {
      "cell_type": "code",
      "source": [
        "mnist = keras.datasets.mnist  # Taking MNIST Dataset\n",
        "(train_images, train_labels), (test_images, test_labels) = mnist.load_data()"
      ],
      "metadata": {
        "id": "bGa9NSy7cNL4"
      },
      "execution_count": null,
      "outputs": []
    },
    {
      "cell_type": "code",
      "source": [
        "train_images = train_images / 255.0\n",
        "test_images = test_images / 255.0 # Preprocessing"
      ],
      "metadata": {
        "id": "RLIKyq2ecTYH"
      },
      "execution_count": null,
      "outputs": []
    },
    {
      "cell_type": "code",
      "source": [
        "model = keras.Sequential([\n",
        "    layers.Flatten(input_shape=(28, 28)),  # Flatting 28x28 images to a 1D array\n",
        "    layers.Dense(128, activation='relu'),          # 128 neurons and ReLU activation\n",
        "    layers.Dropout(0.2),                            # Dropout layer to reduce overfitting\n",
        "    layers.Dense(10, activation='softmax')          # 10 neurons for 10 classes and softmax activation\n",
        "])"
      ],
      "metadata": {
        "id": "Mcgs_sOicchW"
      },
      "execution_count": null,
      "outputs": []
    },
    {
      "cell_type": "code",
      "source": [
        "model.compile(optimizer='adam',\n",
        "              loss='sparse_categorical_crossentropy',\n",
        "              metrics=['accuracy'])   # model compile"
      ],
      "metadata": {
        "id": "lI9Y0hYbdQ_K"
      },
      "execution_count": null,
      "outputs": []
    },
    {
      "cell_type": "code",
      "source": [
        "history = model.fit(train_images, train_labels, epochs=5, validation_split=0.2) # training the  model"
      ],
      "metadata": {
        "id": "j7iw3OcNdX7z"
      },
      "execution_count": null,
      "outputs": []
    },
    {
      "cell_type": "code",
      "source": [
        "plt.subplot(1, 2, 1)\n",
        "plt.plot(history.history['accuracy'])\n",
        "plt.plot(history.history['val_accuracy'])\n",
        "plt.title('Model Accuracy')\n",
        "plt.xlabel('Epoch')\n",
        "plt.ylabel('Accuracy')\n",
        "plt.legend(['Train', 'Validation'], loc='upper left')   # in this we plot training acc"
      ],
      "metadata": {
        "id": "kRK6SmnAjEMT"
      },
      "execution_count": null,
      "outputs": []
    },
    {
      "cell_type": "code",
      "source": [
        "plt.subplot(1, 2, 2)\n",
        "plt.plot(history.history['loss'])\n",
        "plt.plot(history.history['val_loss'])\n",
        "plt.title('Model Loss')\n",
        "plt.xlabel('Epoch')\n",
        "plt.ylabel('Loss')\n",
        "plt.legend(['Train', 'Validation'], loc='upper left')  # training values cross values\n",
        "\n",
        "plt.tight_layout()\n",
        "plt.show()"
      ],
      "metadata": {
        "id": "40Ex8AeIjPgS"
      },
      "execution_count": null,
      "outputs": []
    },
    {
      "cell_type": "code",
      "source": [
        "test_loss, test_acc = model.evaluate(test_images, test_labels)\n",
        "print(f\"\\nTest accuracy: {test_acc}\")         # MV & Train Set\n",
        "print(f\"\\nTest accuracy: {test_acc*100}\")"
      ],
      "metadata": {
        "id": "vzVgKu5wdgg3"
      },
      "execution_count": null,
      "outputs": []
    },
    {
      "cell_type": "code",
      "source": [
        "predictions = model.predict(test_images)\n",
        "num_rows, num_cols = 5, 5\n",
        "plt.figure(figsize=(10, 10))\n",
        "for i in range(num_rows * num_cols):\n",
        "    plt.subplot(num_rows, num_cols, i + 1)\n",
        "    plt.imshow(test_images[i], cmap='gray')\n",
        "    predicted_label = np.argmax(predictions[i])\n",
        "    true_label = test_labels[i]\n",
        "    plt.title(f'Predicted: {predicted_label}\\nTrue: {true_label}', color='green' if predicted_label == true_label else 'red')\n",
        "    plt.axis('off')\n",
        "plt.show()      # Viz Few of testing Images"
      ],
      "metadata": {
        "id": "5vFf8J0Vd-aR"
      },
      "execution_count": null,
      "outputs": []
    }
  ]
}